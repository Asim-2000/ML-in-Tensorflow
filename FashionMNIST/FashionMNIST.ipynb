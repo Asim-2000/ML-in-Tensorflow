{
  "nbformat": 4,
  "nbformat_minor": 0,
  "metadata": {
    "colab": {
      "name": "FashionMNIST.ipynb",
      "provenance": []
    },
    "kernelspec": {
      "name": "python3",
      "display_name": "Python 3"
    },
    "accelerator": "GPU"
  },
  "cells": [
    {
      "cell_type": "code",
      "metadata": {
        "id": "KXiWPw62XfnY",
        "colab_type": "code",
        "colab": {
          "base_uri": "https://localhost:8080/",
          "height": 646
        },
        "outputId": "15e41c58-47c2-4021-f4ba-7a586af755c9"
      },
      "source": [
        "pip install tensorflow"
      ],
      "execution_count": null,
      "outputs": [
        {
          "output_type": "stream",
          "text": [
            "Requirement already satisfied: tensorflow in /usr/local/lib/python3.6/dist-packages (2.2.0)\n",
            "Requirement already satisfied: six>=1.12.0 in /usr/local/lib/python3.6/dist-packages (from tensorflow) (1.12.0)\n",
            "Requirement already satisfied: keras-preprocessing>=1.1.0 in /usr/local/lib/python3.6/dist-packages (from tensorflow) (1.1.2)\n",
            "Requirement already satisfied: google-pasta>=0.1.8 in /usr/local/lib/python3.6/dist-packages (from tensorflow) (0.2.0)\n",
            "Requirement already satisfied: opt-einsum>=2.3.2 in /usr/local/lib/python3.6/dist-packages (from tensorflow) (3.2.1)\n",
            "Requirement already satisfied: termcolor>=1.1.0 in /usr/local/lib/python3.6/dist-packages (from tensorflow) (1.1.0)\n",
            "Requirement already satisfied: numpy<2.0,>=1.16.0 in /usr/local/lib/python3.6/dist-packages (from tensorflow) (1.18.5)\n",
            "Requirement already satisfied: grpcio>=1.8.6 in /usr/local/lib/python3.6/dist-packages (from tensorflow) (1.30.0)\n",
            "Requirement already satisfied: gast==0.3.3 in /usr/local/lib/python3.6/dist-packages (from tensorflow) (0.3.3)\n",
            "Requirement already satisfied: tensorflow-estimator<2.3.0,>=2.2.0 in /usr/local/lib/python3.6/dist-packages (from tensorflow) (2.2.0)\n",
            "Requirement already satisfied: protobuf>=3.8.0 in /usr/local/lib/python3.6/dist-packages (from tensorflow) (3.10.0)\n",
            "Requirement already satisfied: tensorboard<2.3.0,>=2.2.0 in /usr/local/lib/python3.6/dist-packages (from tensorflow) (2.2.2)\n",
            "Requirement already satisfied: wrapt>=1.11.1 in /usr/local/lib/python3.6/dist-packages (from tensorflow) (1.12.1)\n",
            "Requirement already satisfied: wheel>=0.26; python_version >= \"3\" in /usr/local/lib/python3.6/dist-packages (from tensorflow) (0.34.2)\n",
            "Requirement already satisfied: scipy==1.4.1; python_version >= \"3\" in /usr/local/lib/python3.6/dist-packages (from tensorflow) (1.4.1)\n",
            "Requirement already satisfied: h5py<2.11.0,>=2.10.0 in /usr/local/lib/python3.6/dist-packages (from tensorflow) (2.10.0)\n",
            "Requirement already satisfied: astunparse==1.6.3 in /usr/local/lib/python3.6/dist-packages (from tensorflow) (1.6.3)\n",
            "Requirement already satisfied: absl-py>=0.7.0 in /usr/local/lib/python3.6/dist-packages (from tensorflow) (0.9.0)\n",
            "Requirement already satisfied: setuptools in /usr/local/lib/python3.6/dist-packages (from protobuf>=3.8.0->tensorflow) (47.3.1)\n",
            "Requirement already satisfied: tensorboard-plugin-wit>=1.6.0 in /usr/local/lib/python3.6/dist-packages (from tensorboard<2.3.0,>=2.2.0->tensorflow) (1.6.0.post3)\n",
            "Requirement already satisfied: markdown>=2.6.8 in /usr/local/lib/python3.6/dist-packages (from tensorboard<2.3.0,>=2.2.0->tensorflow) (3.2.2)\n",
            "Requirement already satisfied: requests<3,>=2.21.0 in /usr/local/lib/python3.6/dist-packages (from tensorboard<2.3.0,>=2.2.0->tensorflow) (2.23.0)\n",
            "Requirement already satisfied: google-auth-oauthlib<0.5,>=0.4.1 in /usr/local/lib/python3.6/dist-packages (from tensorboard<2.3.0,>=2.2.0->tensorflow) (0.4.1)\n",
            "Requirement already satisfied: werkzeug>=0.11.15 in /usr/local/lib/python3.6/dist-packages (from tensorboard<2.3.0,>=2.2.0->tensorflow) (1.0.1)\n",
            "Requirement already satisfied: google-auth<2,>=1.6.3 in /usr/local/lib/python3.6/dist-packages (from tensorboard<2.3.0,>=2.2.0->tensorflow) (1.17.2)\n",
            "Requirement already satisfied: importlib-metadata; python_version < \"3.8\" in /usr/local/lib/python3.6/dist-packages (from markdown>=2.6.8->tensorboard<2.3.0,>=2.2.0->tensorflow) (1.6.1)\n",
            "Requirement already satisfied: certifi>=2017.4.17 in /usr/local/lib/python3.6/dist-packages (from requests<3,>=2.21.0->tensorboard<2.3.0,>=2.2.0->tensorflow) (2020.6.20)\n",
            "Requirement already satisfied: chardet<4,>=3.0.2 in /usr/local/lib/python3.6/dist-packages (from requests<3,>=2.21.0->tensorboard<2.3.0,>=2.2.0->tensorflow) (3.0.4)\n",
            "Requirement already satisfied: idna<3,>=2.5 in /usr/local/lib/python3.6/dist-packages (from requests<3,>=2.21.0->tensorboard<2.3.0,>=2.2.0->tensorflow) (2.9)\n",
            "Requirement already satisfied: urllib3!=1.25.0,!=1.25.1,<1.26,>=1.21.1 in /usr/local/lib/python3.6/dist-packages (from requests<3,>=2.21.0->tensorboard<2.3.0,>=2.2.0->tensorflow) (1.24.3)\n",
            "Requirement already satisfied: requests-oauthlib>=0.7.0 in /usr/local/lib/python3.6/dist-packages (from google-auth-oauthlib<0.5,>=0.4.1->tensorboard<2.3.0,>=2.2.0->tensorflow) (1.3.0)\n",
            "Requirement already satisfied: pyasn1-modules>=0.2.1 in /usr/local/lib/python3.6/dist-packages (from google-auth<2,>=1.6.3->tensorboard<2.3.0,>=2.2.0->tensorflow) (0.2.8)\n",
            "Requirement already satisfied: cachetools<5.0,>=2.0.0 in /usr/local/lib/python3.6/dist-packages (from google-auth<2,>=1.6.3->tensorboard<2.3.0,>=2.2.0->tensorflow) (4.1.0)\n",
            "Requirement already satisfied: rsa<5,>=3.1.4; python_version >= \"3\" in /usr/local/lib/python3.6/dist-packages (from google-auth<2,>=1.6.3->tensorboard<2.3.0,>=2.2.0->tensorflow) (4.6)\n",
            "Requirement already satisfied: zipp>=0.5 in /usr/local/lib/python3.6/dist-packages (from importlib-metadata; python_version < \"3.8\"->markdown>=2.6.8->tensorboard<2.3.0,>=2.2.0->tensorflow) (3.1.0)\n",
            "Requirement already satisfied: oauthlib>=3.0.0 in /usr/local/lib/python3.6/dist-packages (from requests-oauthlib>=0.7.0->google-auth-oauthlib<0.5,>=0.4.1->tensorboard<2.3.0,>=2.2.0->tensorflow) (3.1.0)\n",
            "Requirement already satisfied: pyasn1<0.5.0,>=0.4.6 in /usr/local/lib/python3.6/dist-packages (from pyasn1-modules>=0.2.1->google-auth<2,>=1.6.3->tensorboard<2.3.0,>=2.2.0->tensorflow) (0.4.8)\n"
          ],
          "name": "stdout"
        }
      ]
    },
    {
      "cell_type": "code",
      "metadata": {
        "id": "gAL9imrhXvX8",
        "colab_type": "code",
        "colab": {}
      },
      "source": [
        "import numpy as np\n",
        "import matplotlib.pyplot as plt\n",
        "from tensorflow.keras.layers import Input, Conv2D, Dense,Flatten, Dropout\n",
        "from tensorflow.keras.models import Model\n",
        "import tensorflow as tf"
      ],
      "execution_count": null,
      "outputs": []
    },
    {
      "cell_type": "code",
      "metadata": {
        "id": "rECcp6TiY9Ho",
        "colab_type": "code",
        "colab": {
          "base_uri": "https://localhost:8080/",
          "height": 153
        },
        "outputId": "3ebfcf87-033a-42a4-83b0-f6ce32f7b764"
      },
      "source": [
        "fashion_mnist=tf.keras.datasets.fashion_mnist\n",
        "\n",
        "(X_train,Y_train),(X_test,Y_test)=fashion_mnist.load_data()\n",
        "\n",
        "\n",
        "\n",
        "\n",
        "\n"
      ],
      "execution_count": null,
      "outputs": [
        {
          "output_type": "stream",
          "text": [
            "Downloading data from https://storage.googleapis.com/tensorflow/tf-keras-datasets/train-labels-idx1-ubyte.gz\n",
            "32768/29515 [=================================] - 0s 0us/step\n",
            "Downloading data from https://storage.googleapis.com/tensorflow/tf-keras-datasets/train-images-idx3-ubyte.gz\n",
            "26427392/26421880 [==============================] - 0s 0us/step\n",
            "Downloading data from https://storage.googleapis.com/tensorflow/tf-keras-datasets/t10k-labels-idx1-ubyte.gz\n",
            "8192/5148 [===============================================] - 0s 0us/step\n",
            "Downloading data from https://storage.googleapis.com/tensorflow/tf-keras-datasets/t10k-images-idx3-ubyte.gz\n",
            "4423680/4422102 [==============================] - 0s 0us/step\n"
          ],
          "name": "stdout"
        }
      ]
    },
    {
      "cell_type": "code",
      "metadata": {
        "id": "H5ieJS51ZuwD",
        "colab_type": "code",
        "colab": {
          "base_uri": "https://localhost:8080/",
          "height": 34
        },
        "outputId": "adee94fd-ff99-4f15-b273-f0514f51eca5"
      },
      "source": [
        "X_train,X_test=X_train/255.0, X_test/255.0\n",
        "\n",
        "print(\"Shape of X_Train: \",X_train.shape)"
      ],
      "execution_count": null,
      "outputs": [
        {
          "output_type": "stream",
          "text": [
            "Shape of X_Train:  (60000, 28, 28)\n"
          ],
          "name": "stdout"
        }
      ]
    },
    {
      "cell_type": "code",
      "metadata": {
        "id": "OzqBbb9ZseuB",
        "colab_type": "code",
        "colab": {
          "base_uri": "https://localhost:8080/",
          "height": 51
        },
        "outputId": "d060f1a0-a2d0-4c23-8b75-24d9cfacf249"
      },
      "source": [
        "X_train=np.expand_dims(X_train,-1)\n",
        "X_test=np.expand_dims(X_test,-1)\n",
        "\n",
        "print(\"Shape of X_train: \",X_train.shape)\n",
        "print(\"Shape of X_test: \",X_test.shape)"
      ],
      "execution_count": null,
      "outputs": [
        {
          "output_type": "stream",
          "text": [
            "Shape of X_train:  (60000, 28, 28, 1)\n",
            "Shape of X_test:  (10000, 28, 28, 1)\n"
          ],
          "name": "stdout"
        }
      ]
    },
    {
      "cell_type": "code",
      "metadata": {
        "id": "g6tG_1AKtRzT",
        "colab_type": "code",
        "colab": {
          "base_uri": "https://localhost:8080/",
          "height": 34
        },
        "outputId": "4e737de8-7a94-4553-a528-b551ac62f5e0"
      },
      "source": [
        "K=(len(set(Y_train)))\n",
        "print(\"Number of classes: \",K)"
      ],
      "execution_count": null,
      "outputs": [
        {
          "output_type": "stream",
          "text": [
            "Number of classes:  10\n"
          ],
          "name": "stdout"
        }
      ]
    },
    {
      "cell_type": "code",
      "metadata": {
        "id": "hZsfVR1UtuRj",
        "colab_type": "code",
        "colab": {}
      },
      "source": [
        "#Building the model using the keras functional API\n",
        "\n",
        "i=Input(X_train[0].shape)\n",
        "x=Conv2D(32,(3,3),strides=2,activation='relu')(i)\n",
        "x=Conv2D(64,(3,3),strides=2,activation='relu')(x)\n",
        "x=Conv2D(128,(3,3),strides=2,activation='relu')(x)\n",
        "x=Flatten()(x)\n",
        "x=Dropout(0.2)(x)\n",
        "x=Dense(512,activation='relu')(x)\n",
        "x=Dropout(0.2)(x)\n",
        "x=Dense(K,activation='softmax')(x)\n",
        "\n",
        "model=Model(i,x)\n",
        "\n"
      ],
      "execution_count": null,
      "outputs": []
    },
    {
      "cell_type": "code",
      "metadata": {
        "id": "3-jsC09SuFMh",
        "colab_type": "code",
        "colab": {
          "base_uri": "https://localhost:8080/",
          "height": 527
        },
        "outputId": "fa95e679-1ad1-4a07-862c-0b0fad0702de"
      },
      "source": [
        "model.compile(optimizer='adam',loss='sparse_categorical_crossentropy',metrics=['accuracy'])\n",
        "\n",
        "r=model.fit(X_train,Y_train,validation_data=(X_test,Y_test),epochs=15)"
      ],
      "execution_count": null,
      "outputs": [
        {
          "output_type": "stream",
          "text": [
            "Epoch 1/15\n",
            "1875/1875 [==============================] - 10s 6ms/step - loss: 0.5139 - accuracy: 0.8099 - val_loss: 0.4054 - val_accuracy: 0.8486\n",
            "Epoch 2/15\n",
            "1875/1875 [==============================] - 10s 5ms/step - loss: 0.3557 - accuracy: 0.8660 - val_loss: 0.3434 - val_accuracy: 0.8681\n",
            "Epoch 3/15\n",
            "1875/1875 [==============================] - 11s 6ms/step - loss: 0.3086 - accuracy: 0.8841 - val_loss: 0.3123 - val_accuracy: 0.8813\n",
            "Epoch 4/15\n",
            "1875/1875 [==============================] - 10s 6ms/step - loss: 0.2741 - accuracy: 0.8971 - val_loss: 0.3061 - val_accuracy: 0.8900\n",
            "Epoch 5/15\n",
            "1875/1875 [==============================] - 10s 5ms/step - loss: 0.2492 - accuracy: 0.9068 - val_loss: 0.2978 - val_accuracy: 0.8949\n",
            "Epoch 6/15\n",
            "1875/1875 [==============================] - 10s 5ms/step - loss: 0.2289 - accuracy: 0.9135 - val_loss: 0.2913 - val_accuracy: 0.9000\n",
            "Epoch 7/15\n",
            "1875/1875 [==============================] - 10s 5ms/step - loss: 0.2120 - accuracy: 0.9196 - val_loss: 0.3003 - val_accuracy: 0.8960\n",
            "Epoch 8/15\n",
            "1875/1875 [==============================] - 10s 5ms/step - loss: 0.1935 - accuracy: 0.9266 - val_loss: 0.3177 - val_accuracy: 0.8933\n",
            "Epoch 9/15\n",
            "1875/1875 [==============================] - 10s 5ms/step - loss: 0.1818 - accuracy: 0.9311 - val_loss: 0.3197 - val_accuracy: 0.8937\n",
            "Epoch 10/15\n",
            "1875/1875 [==============================] - 10s 5ms/step - loss: 0.1709 - accuracy: 0.9349 - val_loss: 0.3261 - val_accuracy: 0.8960\n",
            "Epoch 11/15\n",
            "1875/1875 [==============================] - 10s 5ms/step - loss: 0.1579 - accuracy: 0.9395 - val_loss: 0.3642 - val_accuracy: 0.8953\n",
            "Epoch 12/15\n",
            "1875/1875 [==============================] - 10s 5ms/step - loss: 0.1488 - accuracy: 0.9434 - val_loss: 0.3315 - val_accuracy: 0.9064\n",
            "Epoch 13/15\n",
            "1875/1875 [==============================] - 10s 5ms/step - loss: 0.1408 - accuracy: 0.9460 - val_loss: 0.3734 - val_accuracy: 0.8968\n",
            "Epoch 14/15\n",
            "1875/1875 [==============================] - 10s 5ms/step - loss: 0.1328 - accuracy: 0.9496 - val_loss: 0.3490 - val_accuracy: 0.9014\n",
            "Epoch 15/15\n",
            "1875/1875 [==============================] - 10s 5ms/step - loss: 0.1268 - accuracy: 0.9510 - val_loss: 0.3510 - val_accuracy: 0.8981\n"
          ],
          "name": "stdout"
        }
      ]
    },
    {
      "cell_type": "code",
      "metadata": {
        "id": "d8NR7IYSvn7M",
        "colab_type": "code",
        "colab": {
          "base_uri": "https://localhost:8080/",
          "height": 282
        },
        "outputId": "52c8ad78-9ae4-44fc-c782-d59406186d96"
      },
      "source": [
        "#Plotting loss per iteration\n",
        "\n",
        "import matplotlib.pyplot as plt\n",
        "plt.plot(r.history['loss'],label='loss')\n",
        "plt.plot(r.history['val_loss'],label='val_loss')\n",
        "plt.legend()"
      ],
      "execution_count": null,
      "outputs": [
        {
          "output_type": "execute_result",
          "data": {
            "text/plain": [
              "<matplotlib.legend.Legend at 0x7f054031c940>"
            ]
          },
          "metadata": {
            "tags": []
          },
          "execution_count": 9
        },
        {
          "output_type": "display_data",
          "data": {
            "image/png": "[encoded data removed]",
            "text/plain": [
              "<Figure size 432x288 with 1 Axes>"
            ]
          },
          "metadata": {
            "tags": [],
            "needs_background": "light"
          }
        }
      ]
    },
    {
      "cell_type": "code",
      "metadata": {
        "id": "2FIQ5lHXvsaZ",
        "colab_type": "code",
        "colab": {
          "base_uri": "https://localhost:8080/",
          "height": 282
        },
        "outputId": "a6214630-1398-4faf-91c8-3895d69aecd7"
      },
      "source": [
        "plt.plot(r.history['accuracy'],label='accuracy')\n",
        "plt.plot(r.history['val_accuracy'],label='val_accuracy')\n",
        "plt.legend()"
      ],
      "execution_count": null,
      "outputs": [
        {
          "output_type": "execute_result",
          "data": {
            "text/plain": [
              "<matplotlib.legend.Legend at 0x7f05403cb6d8>"
            ]
          },
          "metadata": {
            "tags": []
          },
          "execution_count": 10
        },
        {
          "output_type": "display_data",
          "data": {
            "image/png": "[encoded data removed]",
            "text/plain": [
              "<Figure size 432x288 with 1 Axes>"
            ]
          },
          "metadata": {
            "tags": [],
            "needs_background": "light"
          }
        }
      ]
    },
    {
      "cell_type": "code",
      "metadata": {
        "id": "y_clqNw80a0E",
        "colab_type": "code",
        "colab": {
          "base_uri": "https://localhost:8080/",
          "height": 498
        },
        "outputId": "4c1d62f2-5f40-42d9-d6d9-6ac94fb80f35"
      },
      "source": [
        "#plotting the confussion matrix\n",
        "\n",
        "from sklearn.metrics import confusion_matrix\n",
        "import itertools\n",
        "\n",
        "def plot_confusion_matrix(cm,classes,\n",
        "                          normalize=False,\n",
        "                          title='Confusion Matrix',\n",
        "                          cmap=plt.cm.Blues):\n",
        "  \n",
        "  if normalize:\n",
        "    cm=cm.astype('float')/cm.sum(axis=1)[:,np.newaxis]\n",
        "    print(\"Normalized Confusion Matrix\")\n",
        "  else:\n",
        "    print(\"Confusion Matrix without Normalization\")\n",
        "\n",
        "  print(cm)\n",
        "\n",
        "  plt.imshow(cm,interpolation='nearest',cmap=cmap)\n",
        "  plt.title(title)\n",
        "  plt.colorbar()\n",
        "  tick_marks=np.arange(len(classes))\n",
        "  plt.xticks(tick_marks,classes,rotation=45)\n",
        "  plt.yticks(tick_marks,classes)\n",
        "\n",
        "  fmt='.2f' if normalize else 'd'\n",
        "  thresh=cm.max()/2.\n",
        "  for i,j in itertools.product(range(cm.shape[0]),range(cm.shape[1])):\n",
        "    plt.text(j,i,format(cm[i,j],fmt),horizontalalignment='center',color='white' if cm[i,j] > thresh else 'black')\n",
        "\n",
        "  plt.tight_layout()\n",
        "  plt.ylabel(\"True label\")\n",
        "  plt.xlabel(\"Predicted label\") \n",
        "  plt.show()\n",
        "\n",
        "\n",
        "p_test=model.predict(X_test).argmax(axis=1)\n",
        "cm=confusion_matrix(Y_test,p_test)\n",
        "plot_confusion_matrix(cm,list(range(10)))\n"
      ],
      "execution_count": null,
      "outputs": [
        {
          "output_type": "stream",
          "text": [
            "Confusion Matrix without Normalization\n",
            "[[869   1  22  19   6   2  75   0   6   0]\n",
            " [  1 978   0  14   2   0   3   0   2   0]\n",
            " [ 16   1 855   8  58   0  61   0   1   0]\n",
            " [ 14   4  24 882  42   0  32   0   2   0]\n",
            " [  1   0  48  20 843   0  86   0   2   0]\n",
            " [  0   0   0   0   0 968   1  22   1   8]\n",
            " [131   1  58  30  78   0 693   0   9   0]\n",
            " [  0   0   0   0   0   8   0 949   1  42]\n",
            " [  1   0   0   1   6   1   8   2 981   0]\n",
            " [  0   0   0   0   0   6   1  30   0 963]]\n"
          ],
          "name": "stdout"
        },
        {
          "output_type": "display_data",
          "data": {
            "image/png": "[encoded data removed]",
            "text/plain": [
              "<Figure size 432x288 with 2 Axes>"
            ]
          },
          "metadata": {
            "tags": [],
            "needs_background": "light"
          }
        }
      ]
    },
    {
      "cell_type": "code",
      "metadata": {
        "id": "eQeFQ4l0OAYQ",
        "colab_type": "code",
        "colab": {
          "base_uri": "https://localhost:8080/",
          "height": 445
        },
        "outputId": "d41f1422-bc6e-486e-eb9f-aabba102829d"
      },
      "source": [
        "#Show some misclassified examples\n",
        "labels=\"\"\""
      ],
      "execution_count": null,
      "outputs": [
        {
          "output_type": "error",
          "ename": "NameError",
          "evalue": "ignored",
          "traceback": [
            "\u001b[0;31m---------------------------------------------------------------------------\u001b[0m",
            "\u001b[0;31mNameError\u001b[0m                                 Traceback (most recent call last)",
            "\u001b[0;32m<ipython-input-21-4d6948fb010d>\u001b[0m in \u001b[0;36m<module>\u001b[0;34m()\u001b[0m\n\u001b[1;32m      4\u001b[0m \u001b[0mi\u001b[0m\u001b[0;34m=\u001b[0m\u001b[0mnp\u001b[0m\u001b[0;34m.\u001b[0m\u001b[0mrandom\u001b[0m\u001b[0;34m.\u001b[0m\u001b[0mchoice\u001b[0m\u001b[0;34m(\u001b[0m\u001b[0mmisclassified_idx\u001b[0m\u001b[0;34m)\u001b[0m\u001b[0;34m\u001b[0m\u001b[0;34m\u001b[0m\u001b[0m\n\u001b[1;32m      5\u001b[0m \u001b[0mplt\u001b[0m\u001b[0;34m.\u001b[0m\u001b[0mimshow\u001b[0m\u001b[0;34m(\u001b[0m\u001b[0mX_test\u001b[0m\u001b[0;34m[\u001b[0m\u001b[0mi\u001b[0m\u001b[0;34m]\u001b[0m\u001b[0;34m.\u001b[0m\u001b[0mreshape\u001b[0m\u001b[0;34m(\u001b[0m\u001b[0;36m28\u001b[0m\u001b[0;34m,\u001b[0m\u001b[0;36m28\u001b[0m\u001b[0;34m)\u001b[0m\u001b[0;34m,\u001b[0m\u001b[0mcmap\u001b[0m\u001b[0;34m=\u001b[0m\u001b[0;34m'gray'\u001b[0m\u001b[0;34m)\u001b[0m\u001b[0;34m\u001b[0m\u001b[0;34m\u001b[0m\u001b[0m\n\u001b[0;32m----> 6\u001b[0;31m \u001b[0mplt\u001b[0m\u001b[0;34m.\u001b[0m\u001b[0mtitle\u001b[0m\u001b[0;34m(\u001b[0m\u001b[0;34m\"True label: %s Predicted: %s \"\u001b[0m\u001b[0;34m%\u001b[0m \u001b[0;34m(\u001b[0m\u001b[0mlabels\u001b[0m\u001b[0;34m[\u001b[0m\u001b[0mY_test\u001b[0m\u001b[0;34m[\u001b[0m\u001b[0mi\u001b[0m\u001b[0;34m]\u001b[0m\u001b[0;34m]\u001b[0m\u001b[0;34m)\u001b[0m\u001b[0;34m,\u001b[0m\u001b[0mlabels\u001b[0m\u001b[0;34m[\u001b[0m\u001b[0mp_test\u001b[0m\u001b[0;34m[\u001b[0m\u001b[0mi\u001b[0m\u001b[0;34m]\u001b[0m\u001b[0;34m]\u001b[0m\u001b[0;34m)\u001b[0m\u001b[0;34m\u001b[0m\u001b[0;34m\u001b[0m\u001b[0m\n\u001b[0m",
            "\u001b[0;31mNameError\u001b[0m: name 'labels' is not defined"
          ]
        },
        {
          "output_type": "display_data",
          "data": {
            "image/png": "[encoded data removed]",
            "text/plain": [
              "<Figure size 432x288 with 1 Axes>"
            ]
          },
          "metadata": {
            "tags": [],
            "needs_background": "light"
          }
        }
      ]
    },
    {
      "cell_type": "code",
      "metadata": {
        "id": "4ANppNWuPW00",
        "colab_type": "code",
        "colab": {}
      },
      "source": [
        "\n",
        "misclassified_idx=np.where(p_test!=Y_test)[0]\n",
        "i=np.random.choice(misclassified_idx)\n",
        "plt.imshow(X_test[i].reshape(28,28),cmap='gray')\n",
        "plt.title(\"True label: %s Predicted: %s \"% (labels[Y_test[i]]),labels[p_test[i]])"
      ],
      "execution_count": null,
      "outputs": []
    }
  ]
}