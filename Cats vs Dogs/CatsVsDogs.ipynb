{
 "metadata": {
  "language_info": {
   "codemirror_mode": {
    "name": "ipython",
    "version": 3
   },
   "file_extension": ".py",
   "mimetype": "text/x-python",
   "name": "python",
   "nbconvert_exporter": "python",
   "pygments_lexer": "ipython3",
   "version": 3
  },
  "orig_nbformat": 2,
  "kernelspec": {
   "name": "python_defaultSpec_1595614038048",
   "display_name": "Python 3.7.6 64-bit ('base': conda)"
  }
 },
 "nbformat": 4,
 "nbformat_minor": 2,
 "cells": [
  {
   "cell_type": "code",
   "execution_count": 1,
   "metadata": {},
   "outputs": [],
   "source": [
    "import tensorflow as tf\n",
    "import numpy as np\n",
    "import matplotlib.pyplot as plt\n",
    "import os\n",
    "from tensorflow.keras.models import Sequential\n",
    "from tensorflow.keras.layers import Dense,Conv2D,MaxPooling2D,Dropout,Flatten\n",
    "from tensorflow.keras.preprocessing.image import ImageDataGenerator"
   ]
  },
  {
   "cell_type": "code",
   "execution_count": 3,
   "metadata": {
    "tags": []
   },
   "outputs": [
    {
     "output_type": "stream",
     "name": "stdout",
     "text": "Downloading data from https://storage.googleapis.com/mledu-datasets/cats_and_dogs_filtered.zip\n68608000/68606236 [==============================] - 198s 3us/step\n"
    }
   ],
   "source": [
    "_URL= 'https://storage.googleapis.com/mledu-datasets/cats_and_dogs_filtered.zip'\n",
    "path_to_zip= tf.keras.utils.get_file('cats_and_dogs.zip',origin=_URL,extract=True)\n"
   ]
  },
  {
   "cell_type": "code",
   "execution_count": 8,
   "metadata": {},
   "outputs": [],
   "source": [
    "PATH = os.path.join(os.path.dirname(path_to_zip), 'cats_and_dogs_filtered')\n",
    "train_dir = os.path.join(PATH,'train')\n",
    "validation_dir = os.path.join(PATH,'validation')\n",
    "train_cats_dir = os.path.join(train_dir,'cats')\n",
    "train_dogs_dir = os.path.join(train_dir,'dogs')\n",
    "validation_cats_dir = os.path.join(validation_dir,'cats')\n",
    "validation_dogs_dir = os.path.join(validation_dir,'dogs')"
   ]
  },
  {
   "cell_type": "code",
   "execution_count": 9,
   "metadata": {
    "tags": []
   },
   "outputs": [
    {
     "output_type": "stream",
     "name": "stdout",
     "text": "Total number of images of cats in training set :  1000\nTotal number of images of dogs in training set :  1000\nTotal number of images of cat in validation set :  500\nTotal number of images of cat in validation set :  500\nTotal number of images in training set :  2000\nTotal number of images in validation set :  1000\n"
    }
   ],
   "source": [
    "num_cats_train = len(os.listdir(train_cats_dir))\n",
    "num_dogs_train = len(os.listdir(train_dogs_dir))\n",
    "\n",
    "num_cats_validation = len(os.listdir(validation_cats_dir))\n",
    "num_dogs_validation = len(os.listdir(validation_dogs_dir))\n",
    "\n",
    "total_trainset = num_cats_train+num_dogs_train\n",
    "total_validationset = num_cats_validation+num_dogs_validation\n",
    "\n",
    "print(\"Total number of images of cats in training set : \",num_cats_train)\n",
    "print(\"Total number of images of dogs in training set : \",num_dogs_train)\n",
    "\n",
    "print(\"Total number of images of cat in validation set : \",num_cats_validation)\n",
    "print(\"Total number of images of cat in validation set : \",num_dogs_validation)\n",
    "\n",
    "print(\"Total number of images in training set : \",total_trainset)\n",
    "print(\"Total number of images in validation set : \",total_validationset)\n"
   ]
  },
  {
   "cell_type": "code",
   "execution_count": 10,
   "metadata": {},
   "outputs": [],
   "source": [
    "batch_size=128\n",
    "epochs=10\n",
    "IMG_HEIGHT=150\n",
    "IMG_WIDTH=150\n"
   ]
  },
  {
   "cell_type": "code",
   "execution_count": 11,
   "metadata": {},
   "outputs": [],
   "source": [
    "train_image_generator=ImageDataGenerator(rescale=(1./255))\n",
    "validation_image_generator=ImageDataGenerator(rescale=(1./255))"
   ]
  },
  {
   "cell_type": "code",
   "execution_count": 13,
   "metadata": {
    "tags": []
   },
   "outputs": [
    {
     "output_type": "stream",
     "name": "stdout",
     "text": "Found 2000 images belonging to 2 classes.\n"
    }
   ],
   "source": [
    "train_data_gen = train_image_generator.flow_from_directory(batch_size=batch_size,directory=train_dir,shuffle=True,target_size=(IMG_HEIGHT,IMG_WIDTH),class_mode='binary')\n"
   ]
  },
  {
   "cell_type": "code",
   "execution_count": null,
   "metadata": {},
   "outputs": [],
   "source": []
  }
 ]
}